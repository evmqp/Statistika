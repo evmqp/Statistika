{
  "nbformat": 4,
  "nbformat_minor": 0,
  "metadata": {
    "colab": {
      "provenance": []
    },
    "kernelspec": {
      "name": "python3",
      "display_name": "Python 3"
    },
    "language_info": {
      "name": "python"
    }
  },
  "cells": [
    {
      "cell_type": "code",
      "source": [
        "import numpy as np\n",
        "import pandas as pd"
      ],
      "metadata": {
        "id": "S2EU3jmdLNJb"
      },
      "execution_count": null,
      "outputs": []
    },
    {
      "cell_type": "code",
      "source": [
        "def f1(df):\n",
        "    n = df.shape[0]\n",
        "    x_mean = df.sum()[0] / n\n",
        "    std = np.sqrt(1/(n - 1) * ((df[0] - x_mean)**2).sum())\n",
        "\n",
        "    return round(x_mean, 2), round(std, 2)"
      ],
      "metadata": {
        "id": "Ntkd9Wm8OuTh"
      },
      "execution_count": null,
      "outputs": []
    },
    {
      "cell_type": "code",
      "source": [
        "def f2(x_mean, std, n, x_y):\n",
        "    x_v_left = x_mean - x_y * std / np.sqrt(n)\n",
        "    x_v_right = x_mean + x_y * std / np.sqrt(n)\n",
        "\n",
        "    return round(x_v_left, 2), round(x_v_right, 2)"
      ],
      "metadata": {
        "id": "oWb-6nHmppGX"
      },
      "execution_count": null,
      "outputs": []
    },
    {
      "cell_type": "code",
      "source": [
        "def f3(x_mean, std, n, t):\n",
        "    x_v_left = x_mean - t * std / np.sqrt(n)\n",
        "    x_v_right = x_mean + t * std / np.sqrt(n)\n",
        "\n",
        "    return round(x_v_left, 2), round(x_v_right, 2)"
      ],
      "metadata": {
        "id": "iUgX-69Xpqn9"
      },
      "execution_count": null,
      "outputs": []
    },
    {
      "cell_type": "code",
      "source": [
        "def f4(x_mean, std, n, hi1, hi2):\n",
        "    std_left = std * np.sqrt(n - 1) / np.sqrt(hi1)\n",
        "    std_right = std * np.sqrt(n - 1) / np.sqrt(hi2)\n",
        "\n",
        "    return std_left, std_right"
      ],
      "metadata": {
        "id": "Jr4HfmAwpsnB"
      },
      "execution_count": null,
      "outputs": []
    },
    {
      "cell_type": "code",
      "execution_count": null,
      "metadata": {
        "id": "HHFE0uU3I92c"
      },
      "outputs": [],
      "source": [
        "d1 = pd.read_csv(\"1.csv\", sep = ',', header=None)\n",
        "d2 = pd.read_csv(\"2.csv\", sep = ',', header=None)\n",
        "d3 = pd.read_csv(\"3.csv\", sep = ',', header=None)\n",
        "d4 = pd.read_csv(\"4.csv\", sep = ',', header=None)"
      ]
    },
    {
      "cell_type": "code",
      "source": [
        "# 1. Рассчитать точечные оценки математического ожидания и стандартного отклонения\n",
        "print(f1(d1))\n",
        "print(f1(d2))\n",
        "print(f1(d3))\n",
        "print(f1(d4))"
      ],
      "metadata": {
        "colab": {
          "base_uri": "https://localhost:8080/"
        },
        "id": "QEhmp4ZooJMD",
        "outputId": "27e71000-7c86-470c-a71b-fd8b5de56637"
      },
      "execution_count": null,
      "outputs": [
        {
          "output_type": "stream",
          "name": "stdout",
          "text": [
            "(30.51, 2.7)\n",
            "(62.71, 6.5)\n",
            "(35.61, 6.35)\n",
            "(30.4, 2.16)\n"
          ]
        }
      ]
    },
    {
      "cell_type": "code",
      "source": [
        "#2.\tНайти границы доверительного интервала мат. ожидания по правилу нормального распределения, используя таблицу критических значений функции Лапласа Ф(x).\n",
        "y = 0.95\n",
        "F = y / 2\n",
        "print(F) # -> x_y = 1.96"
      ],
      "metadata": {
        "colab": {
          "base_uri": "https://localhost:8080/"
        },
        "id": "K6vRHCL0739i",
        "outputId": "e0d79270-66e3-4eec-fd33-11fb05ff27fa"
      },
      "execution_count": null,
      "outputs": [
        {
          "output_type": "stream",
          "name": "stdout",
          "text": [
            "0.475\n"
          ]
        }
      ]
    },
    {
      "cell_type": "code",
      "source": [
        "x_y = 1.96\n",
        "\n",
        "print(f2(f1(d1)[0], f1(d1)[1], d1.shape[0], x_y))\n",
        "print(f2(f1(d2)[0], f1(d2)[1], d2.shape[0], x_y))\n",
        "print(f2(f1(d3)[0], f1(d3)[1], d3.shape[0], x_y))\n",
        "print(f2(f1(d4)[0], f1(d4)[1], d4.shape[0], x_y))"
      ],
      "metadata": {
        "colab": {
          "base_uri": "https://localhost:8080/"
        },
        "id": "kxcyx7UtrqaM",
        "outputId": "bd38e664-6b44-4ef0-afef-43587d7d1567"
      },
      "execution_count": null,
      "outputs": [
        {
          "output_type": "stream",
          "name": "stdout",
          "text": [
            "(29.98, 31.04)\n",
            "(58.68, 66.74)\n",
            "(34.37, 36.85)\n",
            "(29.06, 31.74)\n"
          ]
        }
      ]
    },
    {
      "cell_type": "code",
      "source": [
        "# 3. По правилу t-распределения Стьюдента, используя таблицу критических значений t_(γ,n) t-распределения при значении уверенности γ=0,95.\n",
        "y = 0.95\n",
        "print(1 - y, ' ', d1.shape[0] - 1) # t1 = 1.98\n",
        "print(1 - y, ' ', d2.shape[0] - 1) # t2 = 2.26\n",
        "print(1 - y, ' ', d3.shape[0] - 1) # t3 = 1.98\n",
        "print(1 - y, ' ', d4.shape[0] - 1) # t4 = 2.26"
      ],
      "metadata": {
        "colab": {
          "base_uri": "https://localhost:8080/"
        },
        "id": "DzR3vPdiCuVB",
        "outputId": "e89495da-eef7-4646-d925-3fe739ed21e9"
      },
      "execution_count": null,
      "outputs": [
        {
          "output_type": "stream",
          "name": "stdout",
          "text": [
            "0.050000000000000044   99\n",
            "0.050000000000000044   9\n",
            "0.050000000000000044   99\n",
            "0.050000000000000044   9\n"
          ]
        }
      ]
    },
    {
      "cell_type": "code",
      "source": [
        "print(f3(f1(d1)[0], f1(d1)[1], d1.shape[0], 1.98))\n",
        "print(f3(f1(d2)[0], f1(d2)[1], d2.shape[0], 2.26))\n",
        "print(f3(f1(d3)[0], f1(d3)[1], d3.shape[0], 1.98))\n",
        "print(f3(f1(d4)[0], f1(d4)[1], d4.shape[0], 2.26))"
      ],
      "metadata": {
        "colab": {
          "base_uri": "https://localhost:8080/"
        },
        "id": "xSTeqiVHr4fb",
        "outputId": "67a29ef6-039b-4e86-ef40-96c3449d76ab"
      },
      "execution_count": null,
      "outputs": [
        {
          "output_type": "stream",
          "name": "stdout",
          "text": [
            "(29.98, 31.04)\n",
            "(58.06, 67.36)\n",
            "(34.35, 36.87)\n",
            "(28.86, 31.94)\n"
          ]
        }
      ]
    },
    {
      "cell_type": "code",
      "source": [
        "# 4. Найти границы доверительного интервала для среднеквадратического отклонения по оценке χ^2-распределения при значении уверенности γ=0,95.\n",
        "y = 0.95\n",
        "alpha = 1 - y\n",
        "print('hi1 = ', alpha/2, ' ', d1.shape[0] - 1) # -> 73.36\n",
        "print('hi2 = ', 1 - alpha/2, ' ', d1.shape[0] - 1) # -> 128.42\n",
        "\n",
        "print('hi1 = ', alpha/2, ' ', d2.shape[0] - 1) # -> 19.0\n",
        "print('hi2 = ', 1 - alpha/2, ' ', d2.shape[0] - 1) # -> 2.70\n",
        "\n",
        "print('hi1 = ', alpha/2, ' ', d3.shape[0] - 1) # -> 73.36\n",
        "print('hi2 = ', 1 - alpha/2, ' ', d3.shape[0] - 1) # -> 128.42\n",
        "\n",
        "print('hi1 = ', alpha/2, ' ', d4.shape[0] - 1) # -> 19.0\n",
        "print('hi2 = ', 1 - alpha/2, ' ', d4.shape[0] - 1) # -> 2.70"
      ],
      "metadata": {
        "colab": {
          "base_uri": "https://localhost:8080/"
        },
        "id": "S6aEUoSbDwtk",
        "outputId": "1c123ff0-15af-4835-9c53-39fbc72c6a23"
      },
      "execution_count": null,
      "outputs": [
        {
          "output_type": "stream",
          "name": "stdout",
          "text": [
            "hi1 =  0.025000000000000022   99\n",
            "hi2 =  0.975   99\n",
            "hi1 =  0.025000000000000022   9\n",
            "hi2 =  0.975   9\n",
            "hi1 =  0.025000000000000022   99\n",
            "hi2 =  0.975   99\n",
            "hi1 =  0.025000000000000022   9\n",
            "hi2 =  0.975   9\n"
          ]
        }
      ]
    },
    {
      "cell_type": "code",
      "source": [
        "print(f4(f1(d1)[0], f1(d1)[1], d1.shape[0], hi1 = 73.36, hi2 = 128.42))\n",
        "print(f4(f1(d2)[0], f1(d2)[1], d2.shape[0], hi1 = 19.0, hi2 = 2.70))\n",
        "print(f4(f1(d3)[0], f1(d3)[1], d3.shape[0], hi1 = 73.36, hi2 = 128.42))\n",
        "print(f4(f1(d4)[0], f1(d4)[1], d4.shape[0], hi1 = 19.0, hi2 = 2.70))"
      ],
      "metadata": {
        "colab": {
          "base_uri": "https://localhost:8080/"
        },
        "id": "zMpynAiFsEQR",
        "outputId": "dfa86977-e413-4714-e6ea-8fbc54e96a2d"
      },
      "execution_count": null,
      "outputs": [
        {
          "output_type": "stream",
          "name": "stdout",
          "text": [
            "(3.1365462811203026, 2.3706368375880853)\n",
            "(4.473606810475954, 11.867322079278598)\n",
            "(7.376692179671822, 5.575386636549755)\n",
            "(1.48661395548124, 3.943602414037196)\n"
          ]
        }
      ]
    }
  ]
}